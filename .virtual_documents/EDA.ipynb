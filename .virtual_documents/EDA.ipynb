import pandas as pd
import numpy as np
import seaborn as sns
import matplotlib.pyplot as plt
import warnings
warnings.filterwarnings('ignore')
pd.set_option('display.max_rows', 10000)
pd.set_option('display.max_columns', 10000)
%matplotlib inline





data = pd.read_csv('archive//Bells Palsy Clinical Trial.csv')


data.head()





data.tail()





data['Full Recovery in 3 Months'].value_counts()





data['Full Recovery in 9 Months'].value_counts()





data.shape





data.info()





data.describe().T





data.columns





data.dtypes





data.isnull().sum()





data.duplicated().sum()





def find_outliers_iqr_and_plot(data):
    for column in data.columns:
        if np.issubdtype(data[column].dtype, np.number):
            #Q1 = data[column].quantile(0.25)
            #Q3 = data[column].quantile(0.75)
            #IQR = Q3 - Q1
            #lower_bound = Q1 - 1.5 * IQR
            #upper_bound = Q3 + 1.5 * IQR
            #outliers = data[(data[column] < lower_bound) | (data[column] > upper_bound)]
            
            plt.figure(figsize=(15, 5))
            sns.boxplot(x=data[column])
            plt.title(f'Box plot of {column}')
            plt.xlabel(column)
            plt.ylabel('Value')
            plt.show()





find_outliers_iqr_and_plot(data)





plt.figure(figsize=(15, 5))
plt.title('Distribution of recovery in 3 months')
sns.countplot(data = data, x = 'Full Recovery in 3 Months')
plt.show()





plt.figure(figsize=(15, 5))
plt.title('Distribution of Recovery in 9 months')
sns.countplot(data = data, x = 'Full Recovery in 9 Months')
plt.show()





plt.figure(figsize=(15, 5))
plt.title('Distribution of Age')
sns.histplot(data = data, x = 'Age', kde = True, color = 'red')
plt.show()





plt.figure(figsize=(15, 5))
plt.title('Distribution of Gender')
sns.countplot(data = data, x = 'Sex')
plt.show()








plt.figure(figsize = (15, 5))
plt.title('Correlation between features')
sns.heatmap(data.corr(numeric_only = True))
plt.show()











plt.figure(figsize=(15, 5))
plt.title('Prednisolone Vs Duration')
sns.countplot(data = data, x = 'Full Recovery in 3 Months', hue = 'Received Prednisolone')
plt.show()





plt.figure(figsize=(15, 5))
plt.title('Acyclovir Vs Duration')
sns.countplot(data = data, x = 'Full Recovery in 3 Months', hue = 'Received Acyclovir')
plt.show()





plt.figure(figsize=(15, 5))
plt.title('Prednisolone Vs Duration')
sns.countplot(data = data, x = 'Full Recovery in 9 Months', hue = 'Received Prednisolone')
plt.show()





plt.figure(figsize=(15, 5))
plt.title('Acyclovir Vs Duration')
sns.countplot(data = data, x = 'Full Recovery in 9 Months', hue = 'Received Acyclovir')
plt.show()





data.head(2)





plt.figure(figsize=(15, 5))
plt.title('Sex Vs 9-months Recovery')
sns.countplot(data = data, x = 'Full Recovery in 9 Months', hue = 'Sex')
plt.show()





plt.figure(figsize=(15, 5))
plt.title('Sex Vs 3-months Recovery')
sns.countplot(data = data, x = 'Full Recovery in 3 Months', hue = 'Sex')
plt.show()





plt.figure(figsize=(15, 5))
plt.title('Treatment Group Vs 3-months Recovery')
sns.countplot(data = data, x = 'Treatment Group', hue = 'Full Recovery in 3 Months')
plt.show()





plt.figure(figsize=(15, 5))
plt.title('Treatment Group Vs 9-months Recovery')
sns.countplot(data = data, x = 'Treatment Group', hue = 'Full Recovery in 9 Months')
plt.show()





plt.figure(figsize=(15, 5))
plt.title('Time Vs 9-months Recovery')
sns.countplot(data = data, x = 'Time between onset of symptoms and start of treatment', hue = 'Full Recovery in 9 Months')
plt.show()





plt.figure(figsize=(15, 5))
plt.title('Time Vs 3-months Recovery')
sns.countplot(data = data, x = 'Time between onset of symptoms and start of treatment', hue = 'Full Recovery in 3 Months')
plt.show()





data.head()


a = data[['Full Recovery in 3 Months']]


b = data[['Full Recovery in 9 Months']]


c = pd.DataFrame(np.column_stack([a, b]))


c.head()




























































